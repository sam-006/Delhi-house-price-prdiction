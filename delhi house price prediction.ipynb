{
 "cells": [
  {
   "cell_type": "code",
   "execution_count": 1,
   "id": "0fc0bdc2",
   "metadata": {},
   "outputs": [],
   "source": [
    "import pandas as pd\n",
    "import numpy as np\n",
    "import seaborn as sns\n",
    "import matplotlib.pyplot as plt"
   ]
  },
  {
   "cell_type": "code",
   "execution_count": 2,
   "id": "c9542b14",
   "metadata": {},
   "outputs": [],
   "source": [
    "df=pd.read_csv(\"Delhi_v2.csv\")"
   ]
  },
  {
   "cell_type": "code",
   "execution_count": 3,
   "id": "0a6f0b58",
   "metadata": {},
   "outputs": [
    {
     "data": {
      "text/html": [
       "<div>\n",
       "<style scoped>\n",
       "    .dataframe tbody tr th:only-of-type {\n",
       "        vertical-align: middle;\n",
       "    }\n",
       "\n",
       "    .dataframe tbody tr th {\n",
       "        vertical-align: top;\n",
       "    }\n",
       "\n",
       "    .dataframe thead th {\n",
       "        text-align: right;\n",
       "    }\n",
       "</style>\n",
       "<table border=\"1\" class=\"dataframe\">\n",
       "  <thead>\n",
       "    <tr style=\"text-align: right;\">\n",
       "      <th></th>\n",
       "      <th>Unnamed: 0</th>\n",
       "      <th>price</th>\n",
       "      <th>Address</th>\n",
       "      <th>area</th>\n",
       "      <th>latitude</th>\n",
       "      <th>longitude</th>\n",
       "      <th>Bedrooms</th>\n",
       "      <th>Bathrooms</th>\n",
       "      <th>Balcony</th>\n",
       "      <th>Status</th>\n",
       "      <th>neworold</th>\n",
       "      <th>parking</th>\n",
       "      <th>Furnished_status</th>\n",
       "      <th>Lift</th>\n",
       "      <th>Landmarks</th>\n",
       "      <th>type_of_building</th>\n",
       "      <th>desc</th>\n",
       "      <th>Price_sqft</th>\n",
       "    </tr>\n",
       "  </thead>\n",
       "  <tbody>\n",
       "    <tr>\n",
       "      <th>0</th>\n",
       "      <td>0</td>\n",
       "      <td>5600000.0</td>\n",
       "      <td>Noida Extension, Noida, Delhi NCR</td>\n",
       "      <td>1350.0</td>\n",
       "      <td>28.608850</td>\n",
       "      <td>77.460560</td>\n",
       "      <td>3.0</td>\n",
       "      <td>3.0</td>\n",
       "      <td>NaN</td>\n",
       "      <td>Under Construction</td>\n",
       "      <td>New Property</td>\n",
       "      <td>NaN</td>\n",
       "      <td>NaN</td>\n",
       "      <td>2.0</td>\n",
       "      <td>NaN</td>\n",
       "      <td>Flat</td>\n",
       "      <td>\\n\\n\\n                                Welcome ...</td>\n",
       "      <td>4148.148148</td>\n",
       "    </tr>\n",
       "    <tr>\n",
       "      <th>1</th>\n",
       "      <td>1</td>\n",
       "      <td>8800000.0</td>\n",
       "      <td>Sector 79, Gurgaon, Delhi NCR</td>\n",
       "      <td>1490.0</td>\n",
       "      <td>28.374236</td>\n",
       "      <td>76.952416</td>\n",
       "      <td>3.0</td>\n",
       "      <td>3.0</td>\n",
       "      <td>NaN</td>\n",
       "      <td>Ready to Move</td>\n",
       "      <td>New Property</td>\n",
       "      <td>NaN</td>\n",
       "      <td>Semi-Furnished</td>\n",
       "      <td>2.0</td>\n",
       "      <td>NaN</td>\n",
       "      <td>Flat</td>\n",
       "      <td>\\n\\n\\n                                Mapsko M...</td>\n",
       "      <td>5906.040268</td>\n",
       "    </tr>\n",
       "    <tr>\n",
       "      <th>2</th>\n",
       "      <td>2</td>\n",
       "      <td>16500000.0</td>\n",
       "      <td>Vaishali, Ghaziabad, Delhi NCR</td>\n",
       "      <td>2385.0</td>\n",
       "      <td>28.645769</td>\n",
       "      <td>77.385110</td>\n",
       "      <td>4.0</td>\n",
       "      <td>5.0</td>\n",
       "      <td>NaN</td>\n",
       "      <td>Ready to Move</td>\n",
       "      <td>New Property</td>\n",
       "      <td>1.0</td>\n",
       "      <td>Unfurnished</td>\n",
       "      <td>NaN</td>\n",
       "      <td>NaN</td>\n",
       "      <td>Flat</td>\n",
       "      <td>\\n\\n\\n                                This pro...</td>\n",
       "      <td>6918.238994</td>\n",
       "    </tr>\n",
       "    <tr>\n",
       "      <th>3</th>\n",
       "      <td>3</td>\n",
       "      <td>3810000.0</td>\n",
       "      <td>Link Road, F Block, Sector 50, Noida, Uttar Pr...</td>\n",
       "      <td>1050.0</td>\n",
       "      <td>28.566914</td>\n",
       "      <td>77.436434</td>\n",
       "      <td>2.0</td>\n",
       "      <td>2.0</td>\n",
       "      <td>3.0</td>\n",
       "      <td>NaN</td>\n",
       "      <td>New Property</td>\n",
       "      <td>1.0</td>\n",
       "      <td>Unfurnished</td>\n",
       "      <td>2.0</td>\n",
       "      <td>near Gaur Mulberry Mansion</td>\n",
       "      <td>Flat</td>\n",
       "      <td>\\n\\n\\n                                AIG Roya...</td>\n",
       "      <td>3628.571429</td>\n",
       "    </tr>\n",
       "    <tr>\n",
       "      <th>4</th>\n",
       "      <td>4</td>\n",
       "      <td>6200000.0</td>\n",
       "      <td>Jaypee Pavilion Court Sector 128, Noida, Secto...</td>\n",
       "      <td>1350.0</td>\n",
       "      <td>28.520732</td>\n",
       "      <td>77.356491</td>\n",
       "      <td>2.0</td>\n",
       "      <td>2.0</td>\n",
       "      <td>3.0</td>\n",
       "      <td>Ready to Move</td>\n",
       "      <td>Resale</td>\n",
       "      <td>1.0</td>\n",
       "      <td>NaN</td>\n",
       "      <td>3.0</td>\n",
       "      <td>NaN</td>\n",
       "      <td>Flat</td>\n",
       "      <td>\\n\\n\\n                                The prop...</td>\n",
       "      <td>4592.592593</td>\n",
       "    </tr>\n",
       "  </tbody>\n",
       "</table>\n",
       "</div>"
      ],
      "text/plain": [
       "   Unnamed: 0       price                                            Address  \\\n",
       "0           0   5600000.0                  Noida Extension, Noida, Delhi NCR   \n",
       "1           1   8800000.0                      Sector 79, Gurgaon, Delhi NCR   \n",
       "2           2  16500000.0                     Vaishali, Ghaziabad, Delhi NCR   \n",
       "3           3   3810000.0  Link Road, F Block, Sector 50, Noida, Uttar Pr...   \n",
       "4           4   6200000.0  Jaypee Pavilion Court Sector 128, Noida, Secto...   \n",
       "\n",
       "     area   latitude  longitude  Bedrooms  Bathrooms  Balcony  \\\n",
       "0  1350.0  28.608850  77.460560       3.0        3.0      NaN   \n",
       "1  1490.0  28.374236  76.952416       3.0        3.0      NaN   \n",
       "2  2385.0  28.645769  77.385110       4.0        5.0      NaN   \n",
       "3  1050.0  28.566914  77.436434       2.0        2.0      3.0   \n",
       "4  1350.0  28.520732  77.356491       2.0        2.0      3.0   \n",
       "\n",
       "               Status      neworold  parking Furnished_status  Lift  \\\n",
       "0  Under Construction  New Property      NaN              NaN   2.0   \n",
       "1       Ready to Move  New Property      NaN   Semi-Furnished   2.0   \n",
       "2       Ready to Move  New Property      1.0      Unfurnished   NaN   \n",
       "3                 NaN  New Property      1.0      Unfurnished   2.0   \n",
       "4       Ready to Move        Resale      1.0              NaN   3.0   \n",
       "\n",
       "                    Landmarks type_of_building  \\\n",
       "0                         NaN             Flat   \n",
       "1                         NaN             Flat   \n",
       "2                         NaN             Flat   \n",
       "3  near Gaur Mulberry Mansion             Flat   \n",
       "4                         NaN             Flat   \n",
       "\n",
       "                                                desc   Price_sqft  \n",
       "0  \\n\\n\\n                                Welcome ...  4148.148148  \n",
       "1  \\n\\n\\n                                Mapsko M...  5906.040268  \n",
       "2  \\n\\n\\n                                This pro...  6918.238994  \n",
       "3  \\n\\n\\n                                AIG Roya...  3628.571429  \n",
       "4  \\n\\n\\n                                The prop...  4592.592593  "
      ]
     },
     "execution_count": 3,
     "metadata": {},
     "output_type": "execute_result"
    }
   ],
   "source": [
    "df.head()"
   ]
  },
  {
   "cell_type": "code",
   "execution_count": 4,
   "id": "81683822",
   "metadata": {},
   "outputs": [
    {
     "data": {
      "text/plain": [
       "(7738, 18)"
      ]
     },
     "execution_count": 4,
     "metadata": {},
     "output_type": "execute_result"
    }
   ],
   "source": [
    "df.shape"
   ]
  },
  {
   "cell_type": "code",
   "execution_count": 5,
   "id": "82d1835c",
   "metadata": {},
   "outputs": [
    {
     "data": {
      "text/plain": [
       "Unnamed: 0             0\n",
       "price                  0\n",
       "Address                0\n",
       "area                   0\n",
       "latitude               0\n",
       "longitude              0\n",
       "Bedrooms               0\n",
       "Bathrooms              0\n",
       "Balcony             2572\n",
       "Status               574\n",
       "neworold               0\n",
       "parking             5126\n",
       "Furnished_status    3614\n",
       "Lift                6005\n",
       "Landmarks           4979\n",
       "type_of_building       0\n",
       "desc                   0\n",
       "Price_sqft             0\n",
       "dtype: int64"
      ]
     },
     "execution_count": 5,
     "metadata": {},
     "output_type": "execute_result"
    }
   ],
   "source": [
    "#for counting the number of null values in dataset\n",
    "df.isna().sum()"
   ]
  },
  {
   "cell_type": "code",
   "execution_count": 6,
   "id": "e477b78d",
   "metadata": {},
   "outputs": [
    {
     "name": "stdout",
     "output_type": "stream",
     "text": [
      "<class 'pandas.core.frame.DataFrame'>\n",
      "RangeIndex: 7738 entries, 0 to 7737\n",
      "Data columns (total 18 columns):\n",
      " #   Column            Non-Null Count  Dtype  \n",
      "---  ------            --------------  -----  \n",
      " 0   Unnamed: 0        7738 non-null   int64  \n",
      " 1   price             7738 non-null   float64\n",
      " 2   Address           7738 non-null   object \n",
      " 3   area              7738 non-null   float64\n",
      " 4   latitude          7738 non-null   float64\n",
      " 5   longitude         7738 non-null   float64\n",
      " 6   Bedrooms          7738 non-null   float64\n",
      " 7   Bathrooms         7738 non-null   float64\n",
      " 8   Balcony           5166 non-null   float64\n",
      " 9   Status            7164 non-null   object \n",
      " 10  neworold          7738 non-null   object \n",
      " 11  parking           2612 non-null   float64\n",
      " 12  Furnished_status  4124 non-null   object \n",
      " 13  Lift              1733 non-null   float64\n",
      " 14  Landmarks         2759 non-null   object \n",
      " 15  type_of_building  7738 non-null   object \n",
      " 16  desc              7738 non-null   object \n",
      " 17  Price_sqft        7738 non-null   float64\n",
      "dtypes: float64(10), int64(1), object(7)\n",
      "memory usage: 1.1+ MB\n"
     ]
    }
   ],
   "source": [
    "df.info()"
   ]
  },
  {
   "cell_type": "code",
   "execution_count": 7,
   "id": "8293bcb6",
   "metadata": {},
   "outputs": [
    {
     "data": {
      "text/plain": [
       "Flat                6226\n",
       "Individual House    1512\n",
       "Name: type_of_building, dtype: int64"
      ]
     },
     "execution_count": 7,
     "metadata": {},
     "output_type": "execute_result"
    }
   ],
   "source": [
    "df[\"type_of_building\"].value_counts()"
   ]
  },
  {
   "cell_type": "code",
   "execution_count": 8,
   "id": "2d01316c",
   "metadata": {},
   "outputs": [
    {
     "data": {
      "text/plain": [
       "Resale          6905\n",
       "New Property     833\n",
       "Name: neworold, dtype: int64"
      ]
     },
     "execution_count": 8,
     "metadata": {},
     "output_type": "execute_result"
    }
   ],
   "source": [
    "df[\"neworold\"].value_counts()"
   ]
  },
  {
   "cell_type": "code",
   "execution_count": 9,
   "id": "cc208bd4",
   "metadata": {},
   "outputs": [],
   "source": [
    "df=df.drop(\"desc\",axis=1)"
   ]
  },
  {
   "cell_type": "code",
   "execution_count": 10,
   "id": "55bc78fd",
   "metadata": {},
   "outputs": [
    {
     "data": {
      "text/html": [
       "<div>\n",
       "<style scoped>\n",
       "    .dataframe tbody tr th:only-of-type {\n",
       "        vertical-align: middle;\n",
       "    }\n",
       "\n",
       "    .dataframe tbody tr th {\n",
       "        vertical-align: top;\n",
       "    }\n",
       "\n",
       "    .dataframe thead th {\n",
       "        text-align: right;\n",
       "    }\n",
       "</style>\n",
       "<table border=\"1\" class=\"dataframe\">\n",
       "  <thead>\n",
       "    <tr style=\"text-align: right;\">\n",
       "      <th></th>\n",
       "      <th>Unnamed: 0</th>\n",
       "      <th>price</th>\n",
       "      <th>Address</th>\n",
       "      <th>area</th>\n",
       "      <th>latitude</th>\n",
       "      <th>longitude</th>\n",
       "      <th>Bedrooms</th>\n",
       "      <th>Bathrooms</th>\n",
       "      <th>Balcony</th>\n",
       "      <th>Status</th>\n",
       "      <th>neworold</th>\n",
       "      <th>parking</th>\n",
       "      <th>Furnished_status</th>\n",
       "      <th>Lift</th>\n",
       "      <th>Landmarks</th>\n",
       "      <th>type_of_building</th>\n",
       "      <th>Price_sqft</th>\n",
       "    </tr>\n",
       "  </thead>\n",
       "  <tbody>\n",
       "    <tr>\n",
       "      <th>0</th>\n",
       "      <td>0</td>\n",
       "      <td>5600000.0</td>\n",
       "      <td>Noida Extension, Noida, Delhi NCR</td>\n",
       "      <td>1350.0</td>\n",
       "      <td>28.608850</td>\n",
       "      <td>77.460560</td>\n",
       "      <td>3.0</td>\n",
       "      <td>3.0</td>\n",
       "      <td>NaN</td>\n",
       "      <td>Under Construction</td>\n",
       "      <td>New Property</td>\n",
       "      <td>NaN</td>\n",
       "      <td>NaN</td>\n",
       "      <td>2.0</td>\n",
       "      <td>NaN</td>\n",
       "      <td>Flat</td>\n",
       "      <td>4148.148148</td>\n",
       "    </tr>\n",
       "    <tr>\n",
       "      <th>1</th>\n",
       "      <td>1</td>\n",
       "      <td>8800000.0</td>\n",
       "      <td>Sector 79, Gurgaon, Delhi NCR</td>\n",
       "      <td>1490.0</td>\n",
       "      <td>28.374236</td>\n",
       "      <td>76.952416</td>\n",
       "      <td>3.0</td>\n",
       "      <td>3.0</td>\n",
       "      <td>NaN</td>\n",
       "      <td>Ready to Move</td>\n",
       "      <td>New Property</td>\n",
       "      <td>NaN</td>\n",
       "      <td>Semi-Furnished</td>\n",
       "      <td>2.0</td>\n",
       "      <td>NaN</td>\n",
       "      <td>Flat</td>\n",
       "      <td>5906.040268</td>\n",
       "    </tr>\n",
       "    <tr>\n",
       "      <th>2</th>\n",
       "      <td>2</td>\n",
       "      <td>16500000.0</td>\n",
       "      <td>Vaishali, Ghaziabad, Delhi NCR</td>\n",
       "      <td>2385.0</td>\n",
       "      <td>28.645769</td>\n",
       "      <td>77.385110</td>\n",
       "      <td>4.0</td>\n",
       "      <td>5.0</td>\n",
       "      <td>NaN</td>\n",
       "      <td>Ready to Move</td>\n",
       "      <td>New Property</td>\n",
       "      <td>1.0</td>\n",
       "      <td>Unfurnished</td>\n",
       "      <td>NaN</td>\n",
       "      <td>NaN</td>\n",
       "      <td>Flat</td>\n",
       "      <td>6918.238994</td>\n",
       "    </tr>\n",
       "    <tr>\n",
       "      <th>3</th>\n",
       "      <td>3</td>\n",
       "      <td>3810000.0</td>\n",
       "      <td>Link Road, F Block, Sector 50, Noida, Uttar Pr...</td>\n",
       "      <td>1050.0</td>\n",
       "      <td>28.566914</td>\n",
       "      <td>77.436434</td>\n",
       "      <td>2.0</td>\n",
       "      <td>2.0</td>\n",
       "      <td>3.0</td>\n",
       "      <td>NaN</td>\n",
       "      <td>New Property</td>\n",
       "      <td>1.0</td>\n",
       "      <td>Unfurnished</td>\n",
       "      <td>2.0</td>\n",
       "      <td>near Gaur Mulberry Mansion</td>\n",
       "      <td>Flat</td>\n",
       "      <td>3628.571429</td>\n",
       "    </tr>\n",
       "    <tr>\n",
       "      <th>4</th>\n",
       "      <td>4</td>\n",
       "      <td>6200000.0</td>\n",
       "      <td>Jaypee Pavilion Court Sector 128, Noida, Secto...</td>\n",
       "      <td>1350.0</td>\n",
       "      <td>28.520732</td>\n",
       "      <td>77.356491</td>\n",
       "      <td>2.0</td>\n",
       "      <td>2.0</td>\n",
       "      <td>3.0</td>\n",
       "      <td>Ready to Move</td>\n",
       "      <td>Resale</td>\n",
       "      <td>1.0</td>\n",
       "      <td>NaN</td>\n",
       "      <td>3.0</td>\n",
       "      <td>NaN</td>\n",
       "      <td>Flat</td>\n",
       "      <td>4592.592593</td>\n",
       "    </tr>\n",
       "  </tbody>\n",
       "</table>\n",
       "</div>"
      ],
      "text/plain": [
       "   Unnamed: 0       price                                            Address  \\\n",
       "0           0   5600000.0                  Noida Extension, Noida, Delhi NCR   \n",
       "1           1   8800000.0                      Sector 79, Gurgaon, Delhi NCR   \n",
       "2           2  16500000.0                     Vaishali, Ghaziabad, Delhi NCR   \n",
       "3           3   3810000.0  Link Road, F Block, Sector 50, Noida, Uttar Pr...   \n",
       "4           4   6200000.0  Jaypee Pavilion Court Sector 128, Noida, Secto...   \n",
       "\n",
       "     area   latitude  longitude  Bedrooms  Bathrooms  Balcony  \\\n",
       "0  1350.0  28.608850  77.460560       3.0        3.0      NaN   \n",
       "1  1490.0  28.374236  76.952416       3.0        3.0      NaN   \n",
       "2  2385.0  28.645769  77.385110       4.0        5.0      NaN   \n",
       "3  1050.0  28.566914  77.436434       2.0        2.0      3.0   \n",
       "4  1350.0  28.520732  77.356491       2.0        2.0      3.0   \n",
       "\n",
       "               Status      neworold  parking Furnished_status  Lift  \\\n",
       "0  Under Construction  New Property      NaN              NaN   2.0   \n",
       "1       Ready to Move  New Property      NaN   Semi-Furnished   2.0   \n",
       "2       Ready to Move  New Property      1.0      Unfurnished   NaN   \n",
       "3                 NaN  New Property      1.0      Unfurnished   2.0   \n",
       "4       Ready to Move        Resale      1.0              NaN   3.0   \n",
       "\n",
       "                    Landmarks type_of_building   Price_sqft  \n",
       "0                         NaN             Flat  4148.148148  \n",
       "1                         NaN             Flat  5906.040268  \n",
       "2                         NaN             Flat  6918.238994  \n",
       "3  near Gaur Mulberry Mansion             Flat  3628.571429  \n",
       "4                         NaN             Flat  4592.592593  "
      ]
     },
     "execution_count": 10,
     "metadata": {},
     "output_type": "execute_result"
    }
   ],
   "source": [
    "df.head()"
   ]
  },
  {
   "cell_type": "code",
   "execution_count": 11,
   "id": "4a0976d3",
   "metadata": {},
   "outputs": [],
   "source": [
    "dff=df[[\"price\",\"Bedrooms\",\"Bathrooms\",\"Price_sqft\",\"type_of_building\",\"neworold\"]]\n",
    "dff.to_csv('clean data.csv')"
   ]
  },
  {
   "cell_type": "code",
   "execution_count": 12,
   "id": "a1ce8048",
   "metadata": {},
   "outputs": [
    {
     "data": {
      "text/html": [
       "<div>\n",
       "<style scoped>\n",
       "    .dataframe tbody tr th:only-of-type {\n",
       "        vertical-align: middle;\n",
       "    }\n",
       "\n",
       "    .dataframe tbody tr th {\n",
       "        vertical-align: top;\n",
       "    }\n",
       "\n",
       "    .dataframe thead th {\n",
       "        text-align: right;\n",
       "    }\n",
       "</style>\n",
       "<table border=\"1\" class=\"dataframe\">\n",
       "  <thead>\n",
       "    <tr style=\"text-align: right;\">\n",
       "      <th></th>\n",
       "      <th>price</th>\n",
       "      <th>Bedrooms</th>\n",
       "      <th>Bathrooms</th>\n",
       "      <th>Price_sqft</th>\n",
       "      <th>type_of_building</th>\n",
       "      <th>neworold</th>\n",
       "    </tr>\n",
       "  </thead>\n",
       "  <tbody>\n",
       "    <tr>\n",
       "      <th>0</th>\n",
       "      <td>5600000.0</td>\n",
       "      <td>3.0</td>\n",
       "      <td>3.0</td>\n",
       "      <td>4148.148148</td>\n",
       "      <td>Flat</td>\n",
       "      <td>New Property</td>\n",
       "    </tr>\n",
       "    <tr>\n",
       "      <th>1</th>\n",
       "      <td>8800000.0</td>\n",
       "      <td>3.0</td>\n",
       "      <td>3.0</td>\n",
       "      <td>5906.040268</td>\n",
       "      <td>Flat</td>\n",
       "      <td>New Property</td>\n",
       "    </tr>\n",
       "    <tr>\n",
       "      <th>2</th>\n",
       "      <td>16500000.0</td>\n",
       "      <td>4.0</td>\n",
       "      <td>5.0</td>\n",
       "      <td>6918.238994</td>\n",
       "      <td>Flat</td>\n",
       "      <td>New Property</td>\n",
       "    </tr>\n",
       "    <tr>\n",
       "      <th>3</th>\n",
       "      <td>3810000.0</td>\n",
       "      <td>2.0</td>\n",
       "      <td>2.0</td>\n",
       "      <td>3628.571429</td>\n",
       "      <td>Flat</td>\n",
       "      <td>New Property</td>\n",
       "    </tr>\n",
       "    <tr>\n",
       "      <th>4</th>\n",
       "      <td>6200000.0</td>\n",
       "      <td>2.0</td>\n",
       "      <td>2.0</td>\n",
       "      <td>4592.592593</td>\n",
       "      <td>Flat</td>\n",
       "      <td>Resale</td>\n",
       "    </tr>\n",
       "  </tbody>\n",
       "</table>\n",
       "</div>"
      ],
      "text/plain": [
       "        price  Bedrooms  Bathrooms   Price_sqft type_of_building      neworold\n",
       "0   5600000.0       3.0        3.0  4148.148148             Flat  New Property\n",
       "1   8800000.0       3.0        3.0  5906.040268             Flat  New Property\n",
       "2  16500000.0       4.0        5.0  6918.238994             Flat  New Property\n",
       "3   3810000.0       2.0        2.0  3628.571429             Flat  New Property\n",
       "4   6200000.0       2.0        2.0  4592.592593             Flat        Resale"
      ]
     },
     "execution_count": 12,
     "metadata": {},
     "output_type": "execute_result"
    }
   ],
   "source": [
    "dff.head()"
   ]
  },
  {
   "cell_type": "code",
   "execution_count": 13,
   "id": "ba89f3c9",
   "metadata": {},
   "outputs": [
    {
     "data": {
      "text/html": [
       "<div>\n",
       "<style scoped>\n",
       "    .dataframe tbody tr th:only-of-type {\n",
       "        vertical-align: middle;\n",
       "    }\n",
       "\n",
       "    .dataframe tbody tr th {\n",
       "        vertical-align: top;\n",
       "    }\n",
       "\n",
       "    .dataframe thead th {\n",
       "        text-align: right;\n",
       "    }\n",
       "</style>\n",
       "<table border=\"1\" class=\"dataframe\">\n",
       "  <thead>\n",
       "    <tr style=\"text-align: right;\">\n",
       "      <th></th>\n",
       "      <th>price</th>\n",
       "      <th>Bedrooms</th>\n",
       "      <th>Bathrooms</th>\n",
       "      <th>Price_sqft</th>\n",
       "      <th>type_of_building</th>\n",
       "      <th>neworold</th>\n",
       "    </tr>\n",
       "  </thead>\n",
       "  <tbody>\n",
       "    <tr>\n",
       "      <th>0</th>\n",
       "      <td>5600000.0</td>\n",
       "      <td>3.0</td>\n",
       "      <td>3.0</td>\n",
       "      <td>4148.148148</td>\n",
       "      <td>Flat</td>\n",
       "      <td>New Property</td>\n",
       "    </tr>\n",
       "    <tr>\n",
       "      <th>1</th>\n",
       "      <td>8800000.0</td>\n",
       "      <td>3.0</td>\n",
       "      <td>3.0</td>\n",
       "      <td>5906.040268</td>\n",
       "      <td>Flat</td>\n",
       "      <td>New Property</td>\n",
       "    </tr>\n",
       "    <tr>\n",
       "      <th>2</th>\n",
       "      <td>16500000.0</td>\n",
       "      <td>4.0</td>\n",
       "      <td>5.0</td>\n",
       "      <td>6918.238994</td>\n",
       "      <td>Flat</td>\n",
       "      <td>New Property</td>\n",
       "    </tr>\n",
       "    <tr>\n",
       "      <th>3</th>\n",
       "      <td>3810000.0</td>\n",
       "      <td>2.0</td>\n",
       "      <td>2.0</td>\n",
       "      <td>3628.571429</td>\n",
       "      <td>Flat</td>\n",
       "      <td>New Property</td>\n",
       "    </tr>\n",
       "    <tr>\n",
       "      <th>4</th>\n",
       "      <td>6200000.0</td>\n",
       "      <td>2.0</td>\n",
       "      <td>2.0</td>\n",
       "      <td>4592.592593</td>\n",
       "      <td>Flat</td>\n",
       "      <td>Resale</td>\n",
       "    </tr>\n",
       "    <tr>\n",
       "      <th>...</th>\n",
       "      <td>...</td>\n",
       "      <td>...</td>\n",
       "      <td>...</td>\n",
       "      <td>...</td>\n",
       "      <td>...</td>\n",
       "      <td>...</td>\n",
       "    </tr>\n",
       "    <tr>\n",
       "      <th>7733</th>\n",
       "      <td>7900000.0</td>\n",
       "      <td>2.0</td>\n",
       "      <td>2.0</td>\n",
       "      <td>7214.611872</td>\n",
       "      <td>Flat</td>\n",
       "      <td>Resale</td>\n",
       "    </tr>\n",
       "    <tr>\n",
       "      <th>7734</th>\n",
       "      <td>4510000.0</td>\n",
       "      <td>2.0</td>\n",
       "      <td>2.0</td>\n",
       "      <td>4254.716981</td>\n",
       "      <td>Flat</td>\n",
       "      <td>Resale</td>\n",
       "    </tr>\n",
       "    <tr>\n",
       "      <th>7735</th>\n",
       "      <td>7000000.0</td>\n",
       "      <td>4.0</td>\n",
       "      <td>3.0</td>\n",
       "      <td>3688.092729</td>\n",
       "      <td>Flat</td>\n",
       "      <td>Resale</td>\n",
       "    </tr>\n",
       "    <tr>\n",
       "      <th>7736</th>\n",
       "      <td>6500000.0</td>\n",
       "      <td>3.0</td>\n",
       "      <td>3.0</td>\n",
       "      <td>4642.857143</td>\n",
       "      <td>Flat</td>\n",
       "      <td>Resale</td>\n",
       "    </tr>\n",
       "    <tr>\n",
       "      <th>7737</th>\n",
       "      <td>6500000.0</td>\n",
       "      <td>3.0</td>\n",
       "      <td>2.0</td>\n",
       "      <td>3714.285714</td>\n",
       "      <td>Flat</td>\n",
       "      <td>New Property</td>\n",
       "    </tr>\n",
       "  </tbody>\n",
       "</table>\n",
       "<p>7738 rows × 6 columns</p>\n",
       "</div>"
      ],
      "text/plain": [
       "           price  Bedrooms  Bathrooms   Price_sqft type_of_building  \\\n",
       "0      5600000.0       3.0        3.0  4148.148148             Flat   \n",
       "1      8800000.0       3.0        3.0  5906.040268             Flat   \n",
       "2     16500000.0       4.0        5.0  6918.238994             Flat   \n",
       "3      3810000.0       2.0        2.0  3628.571429             Flat   \n",
       "4      6200000.0       2.0        2.0  4592.592593             Flat   \n",
       "...          ...       ...        ...          ...              ...   \n",
       "7733   7900000.0       2.0        2.0  7214.611872             Flat   \n",
       "7734   4510000.0       2.0        2.0  4254.716981             Flat   \n",
       "7735   7000000.0       4.0        3.0  3688.092729             Flat   \n",
       "7736   6500000.0       3.0        3.0  4642.857143             Flat   \n",
       "7737   6500000.0       3.0        2.0  3714.285714             Flat   \n",
       "\n",
       "          neworold  \n",
       "0     New Property  \n",
       "1     New Property  \n",
       "2     New Property  \n",
       "3     New Property  \n",
       "4           Resale  \n",
       "...            ...  \n",
       "7733        Resale  \n",
       "7734        Resale  \n",
       "7735        Resale  \n",
       "7736        Resale  \n",
       "7737  New Property  \n",
       "\n",
       "[7738 rows x 6 columns]"
      ]
     },
     "execution_count": 13,
     "metadata": {},
     "output_type": "execute_result"
    }
   ],
   "source": [
    "dff"
   ]
  },
  {
   "cell_type": "code",
   "execution_count": 14,
   "id": "7665fceb",
   "metadata": {},
   "outputs": [
    {
     "data": {
      "text/html": [
       "<div>\n",
       "<style scoped>\n",
       "    .dataframe tbody tr th:only-of-type {\n",
       "        vertical-align: middle;\n",
       "    }\n",
       "\n",
       "    .dataframe tbody tr th {\n",
       "        vertical-align: top;\n",
       "    }\n",
       "\n",
       "    .dataframe thead th {\n",
       "        text-align: right;\n",
       "    }\n",
       "</style>\n",
       "<table border=\"1\" class=\"dataframe\">\n",
       "  <thead>\n",
       "    <tr style=\"text-align: right;\">\n",
       "      <th></th>\n",
       "      <th>price</th>\n",
       "      <th>Bedrooms</th>\n",
       "      <th>Bathrooms</th>\n",
       "      <th>Price_sqft</th>\n",
       "    </tr>\n",
       "  </thead>\n",
       "  <tbody>\n",
       "    <tr>\n",
       "      <th>count</th>\n",
       "      <td>7.738000e+03</td>\n",
       "      <td>7738.000000</td>\n",
       "      <td>7738.000000</td>\n",
       "      <td>7738.000000</td>\n",
       "    </tr>\n",
       "    <tr>\n",
       "      <th>mean</th>\n",
       "      <td>8.320635e+06</td>\n",
       "      <td>2.708193</td>\n",
       "      <td>2.501163</td>\n",
       "      <td>5543.660241</td>\n",
       "    </tr>\n",
       "    <tr>\n",
       "      <th>std</th>\n",
       "      <td>7.223197e+06</td>\n",
       "      <td>0.877026</td>\n",
       "      <td>0.867050</td>\n",
       "      <td>2408.659307</td>\n",
       "    </tr>\n",
       "    <tr>\n",
       "      <th>min</th>\n",
       "      <td>1.700000e+06</td>\n",
       "      <td>2.000000</td>\n",
       "      <td>2.000000</td>\n",
       "      <td>2100.000000</td>\n",
       "    </tr>\n",
       "    <tr>\n",
       "      <th>25%</th>\n",
       "      <td>4.200000e+06</td>\n",
       "      <td>2.000000</td>\n",
       "      <td>2.000000</td>\n",
       "      <td>3950.986915</td>\n",
       "    </tr>\n",
       "    <tr>\n",
       "      <th>50%</th>\n",
       "      <td>6.000000e+06</td>\n",
       "      <td>3.000000</td>\n",
       "      <td>2.000000</td>\n",
       "      <td>4972.674332</td>\n",
       "    </tr>\n",
       "    <tr>\n",
       "      <th>75%</th>\n",
       "      <td>9.500000e+06</td>\n",
       "      <td>3.000000</td>\n",
       "      <td>3.000000</td>\n",
       "      <td>6350.638693</td>\n",
       "    </tr>\n",
       "    <tr>\n",
       "      <th>max</th>\n",
       "      <td>8.500000e+07</td>\n",
       "      <td>10.000000</td>\n",
       "      <td>10.000000</td>\n",
       "      <td>44378.698225</td>\n",
       "    </tr>\n",
       "  </tbody>\n",
       "</table>\n",
       "</div>"
      ],
      "text/plain": [
       "              price     Bedrooms    Bathrooms    Price_sqft\n",
       "count  7.738000e+03  7738.000000  7738.000000   7738.000000\n",
       "mean   8.320635e+06     2.708193     2.501163   5543.660241\n",
       "std    7.223197e+06     0.877026     0.867050   2408.659307\n",
       "min    1.700000e+06     2.000000     2.000000   2100.000000\n",
       "25%    4.200000e+06     2.000000     2.000000   3950.986915\n",
       "50%    6.000000e+06     3.000000     2.000000   4972.674332\n",
       "75%    9.500000e+06     3.000000     3.000000   6350.638693\n",
       "max    8.500000e+07    10.000000    10.000000  44378.698225"
      ]
     },
     "execution_count": 14,
     "metadata": {},
     "output_type": "execute_result"
    }
   ],
   "source": [
    "dff.describe()\n"
   ]
  },
  {
   "cell_type": "code",
   "execution_count": 15,
   "id": "5b44b059",
   "metadata": {},
   "outputs": [
    {
     "data": {
      "text/html": [
       "<div>\n",
       "<style scoped>\n",
       "    .dataframe tbody tr th:only-of-type {\n",
       "        vertical-align: middle;\n",
       "    }\n",
       "\n",
       "    .dataframe tbody tr th {\n",
       "        vertical-align: top;\n",
       "    }\n",
       "\n",
       "    .dataframe thead th {\n",
       "        text-align: right;\n",
       "    }\n",
       "</style>\n",
       "<table border=\"1\" class=\"dataframe\">\n",
       "  <thead>\n",
       "    <tr style=\"text-align: right;\">\n",
       "      <th></th>\n",
       "      <th>price</th>\n",
       "      <th>Bedrooms</th>\n",
       "      <th>Bathrooms</th>\n",
       "      <th>Price_sqft</th>\n",
       "      <th>type_of_building</th>\n",
       "      <th>neworold</th>\n",
       "    </tr>\n",
       "  </thead>\n",
       "  <tbody>\n",
       "    <tr>\n",
       "      <th>6614</th>\n",
       "      <td>85000000.0</td>\n",
       "      <td>5.0</td>\n",
       "      <td>5.0</td>\n",
       "      <td>15947.467167</td>\n",
       "      <td>Flat</td>\n",
       "      <td>Resale</td>\n",
       "    </tr>\n",
       "  </tbody>\n",
       "</table>\n",
       "</div>"
      ],
      "text/plain": [
       "           price  Bedrooms  Bathrooms    Price_sqft type_of_building neworold\n",
       "6614  85000000.0       5.0        5.0  15947.467167             Flat   Resale"
      ]
     },
     "execution_count": 15,
     "metadata": {},
     "output_type": "execute_result"
    }
   ],
   "source": [
    "dff.loc[dff[\"price\"]==dff[\"price\"].max()]"
   ]
  },
  {
   "cell_type": "code",
   "execution_count": 16,
   "id": "223a3b46",
   "metadata": {},
   "outputs": [
    {
     "data": {
      "text/plain": [
       "<AxesSubplot:xlabel='Bedrooms', ylabel='price'>"
      ]
     },
     "execution_count": 16,
     "metadata": {},
     "output_type": "execute_result"
    },
    {
     "data": {
      "image/png": "[encoded data removed]",
      "text/plain": [
       "<Figure size 432x288 with 1 Axes>"
      ]
     },
     "metadata": {
      "needs_background": "light"
     },
     "output_type": "display_data"
    }
   ],
   "source": [
    "sns.barplot(x=\"Bedrooms\",y=\"price\",data=dff)"
   ]
  },
  {
   "cell_type": "code",
   "execution_count": 17,
   "id": "e1b1c1c3",
   "metadata": {},
   "outputs": [
    {
     "data": {
      "text/plain": [
       "<AxesSubplot:xlabel='Bathrooms', ylabel='price'>"
      ]
     },
     "execution_count": 17,
     "metadata": {},
     "output_type": "execute_result"
    },
    {
     "data": {
      "image/png": "[encoded data removed]",
      "text/plain": [
       "<Figure size 432x288 with 1 Axes>"
      ]
     },
     "metadata": {
      "needs_background": "light"
     },
     "output_type": "display_data"
    }
   ],
   "source": [
    "sns.barplot(x=\"Bathrooms\",y=\"price\",data=dff)"
   ]
  },
  {
   "cell_type": "code",
   "execution_count": 18,
   "id": "8ad7bbb0",
   "metadata": {},
   "outputs": [
    {
     "data": {
      "text/plain": [
       "<AxesSubplot:xlabel='type_of_building', ylabel='price'>"
      ]
     },
     "execution_count": 18,
     "metadata": {},
     "output_type": "execute_result"
    },
    {
     "data": {
      "image/png": "[encoded data removed]",
      "text/plain": [
       "<Figure size 432x288 with 1 Axes>"
      ]
     },
     "metadata": {
      "needs_background": "light"
     },
     "output_type": "display_data"
    }
   ],
   "source": [
    "sns.barplot(x=\"type_of_building\",y=\"price\",data=dff)"
   ]
  },
  {
   "cell_type": "code",
   "execution_count": 19,
   "id": "1c1c3a76",
   "metadata": {},
   "outputs": [
    {
     "name": "stderr",
     "output_type": "stream",
     "text": [
      "C:\\Users\\SAMPATH\\AppData\\Local\\Temp/ipykernel_12740/2313356141.py:1: SettingWithCopyWarning: \n",
      "A value is trying to be set on a copy of a slice from a DataFrame.\n",
      "Try using .loc[row_indexer,col_indexer] = value instead\n",
      "\n",
      "See the caveats in the documentation: https://pandas.pydata.org/pandas-docs/stable/user_guide/indexing.html#returning-a-view-versus-a-copy\n",
      "  dff[\"type_of_building\"]=dff[\"type_of_building\"].replace([\"Flat\",\"Individual House\"],[1.0,0.0])\n"
     ]
    }
   ],
   "source": [
    "dff[\"type_of_building\"]=dff[\"type_of_building\"].replace([\"Flat\",\"Individual House\"],[1.0,0.0])"
   ]
  },
  {
   "cell_type": "code",
   "execution_count": 20,
   "id": "e04541c3",
   "metadata": {},
   "outputs": [
    {
     "data": {
      "text/plain": [
       "1.0    6226\n",
       "0.0    1512\n",
       "Name: type_of_building, dtype: int64"
      ]
     },
     "execution_count": 20,
     "metadata": {},
     "output_type": "execute_result"
    }
   ],
   "source": [
    "dff[\"type_of_building\"].value_counts()"
   ]
  },
  {
   "cell_type": "code",
   "execution_count": 21,
   "id": "3b740597",
   "metadata": {},
   "outputs": [
    {
     "name": "stderr",
     "output_type": "stream",
     "text": [
      "C:\\Users\\SAMPATH\\AppData\\Local\\Temp/ipykernel_12740/2743713833.py:1: SettingWithCopyWarning: \n",
      "A value is trying to be set on a copy of a slice from a DataFrame.\n",
      "Try using .loc[row_indexer,col_indexer] = value instead\n",
      "\n",
      "See the caveats in the documentation: https://pandas.pydata.org/pandas-docs/stable/user_guide/indexing.html#returning-a-view-versus-a-copy\n",
      "  dff[\"neworold\"]=dff[\"neworold\"].replace([\"Resale\",\"New Property\"],[1.0,0.0])\n"
     ]
    }
   ],
   "source": [
    "dff[\"neworold\"]=dff[\"neworold\"].replace([\"Resale\",\"New Property\"],[1.0,0.0])\n",
    "dff.to_csv(\"clean data.csv\")"
   ]
  },
  {
   "cell_type": "code",
   "execution_count": 22,
   "id": "ce800707",
   "metadata": {},
   "outputs": [
    {
     "data": {
      "text/html": [
       "<div>\n",
       "<style scoped>\n",
       "    .dataframe tbody tr th:only-of-type {\n",
       "        vertical-align: middle;\n",
       "    }\n",
       "\n",
       "    .dataframe tbody tr th {\n",
       "        vertical-align: top;\n",
       "    }\n",
       "\n",
       "    .dataframe thead th {\n",
       "        text-align: right;\n",
       "    }\n",
       "</style>\n",
       "<table border=\"1\" class=\"dataframe\">\n",
       "  <thead>\n",
       "    <tr style=\"text-align: right;\">\n",
       "      <th></th>\n",
       "      <th>price</th>\n",
       "      <th>Bedrooms</th>\n",
       "      <th>Bathrooms</th>\n",
       "      <th>Price_sqft</th>\n",
       "      <th>type_of_building</th>\n",
       "      <th>neworold</th>\n",
       "    </tr>\n",
       "  </thead>\n",
       "  <tbody>\n",
       "    <tr>\n",
       "      <th>0</th>\n",
       "      <td>5600000.0</td>\n",
       "      <td>3.0</td>\n",
       "      <td>3.0</td>\n",
       "      <td>4148.148148</td>\n",
       "      <td>1.0</td>\n",
       "      <td>0.0</td>\n",
       "    </tr>\n",
       "    <tr>\n",
       "      <th>1</th>\n",
       "      <td>8800000.0</td>\n",
       "      <td>3.0</td>\n",
       "      <td>3.0</td>\n",
       "      <td>5906.040268</td>\n",
       "      <td>1.0</td>\n",
       "      <td>0.0</td>\n",
       "    </tr>\n",
       "    <tr>\n",
       "      <th>2</th>\n",
       "      <td>16500000.0</td>\n",
       "      <td>4.0</td>\n",
       "      <td>5.0</td>\n",
       "      <td>6918.238994</td>\n",
       "      <td>1.0</td>\n",
       "      <td>0.0</td>\n",
       "    </tr>\n",
       "    <tr>\n",
       "      <th>3</th>\n",
       "      <td>3810000.0</td>\n",
       "      <td>2.0</td>\n",
       "      <td>2.0</td>\n",
       "      <td>3628.571429</td>\n",
       "      <td>1.0</td>\n",
       "      <td>0.0</td>\n",
       "    </tr>\n",
       "    <tr>\n",
       "      <th>4</th>\n",
       "      <td>6200000.0</td>\n",
       "      <td>2.0</td>\n",
       "      <td>2.0</td>\n",
       "      <td>4592.592593</td>\n",
       "      <td>1.0</td>\n",
       "      <td>1.0</td>\n",
       "    </tr>\n",
       "  </tbody>\n",
       "</table>\n",
       "</div>"
      ],
      "text/plain": [
       "        price  Bedrooms  Bathrooms   Price_sqft  type_of_building  neworold\n",
       "0   5600000.0       3.0        3.0  4148.148148               1.0       0.0\n",
       "1   8800000.0       3.0        3.0  5906.040268               1.0       0.0\n",
       "2  16500000.0       4.0        5.0  6918.238994               1.0       0.0\n",
       "3   3810000.0       2.0        2.0  3628.571429               1.0       0.0\n",
       "4   6200000.0       2.0        2.0  4592.592593               1.0       1.0"
      ]
     },
     "execution_count": 22,
     "metadata": {},
     "output_type": "execute_result"
    }
   ],
   "source": [
    "dff.head()"
   ]
  },
  {
   "cell_type": "code",
   "execution_count": 23,
   "id": "579c555c",
   "metadata": {},
   "outputs": [
    {
     "data": {
      "text/plain": [
       "(7738, 6)"
      ]
     },
     "execution_count": 23,
     "metadata": {},
     "output_type": "execute_result"
    }
   ],
   "source": [
    "dff.shape"
   ]
  },
  {
   "cell_type": "code",
   "execution_count": 24,
   "id": "e8ab1fba",
   "metadata": {},
   "outputs": [
    {
     "name": "stderr",
     "output_type": "stream",
     "text": [
      "C:\\Users\\SAMPATH\\AppData\\Local\\Temp/ipykernel_12740/2736046607.py:1: SettingWithCopyWarning: \n",
      "A value is trying to be set on a copy of a slice from a DataFrame.\n",
      "Try using .loc[row_indexer,col_indexer] = value instead\n",
      "\n",
      "See the caveats in the documentation: https://pandas.pydata.org/pandas-docs/stable/user_guide/indexing.html#returning-a-view-versus-a-copy\n",
      "  dff[\"total_sq_feet\"]=dff[\"price\"]/dff[\"Price_sqft\"]\n"
     ]
    }
   ],
   "source": [
    "dff[\"total_sq_feet\"]=dff[\"price\"]/dff[\"Price_sqft\"]"
   ]
  },
  {
   "cell_type": "code",
   "execution_count": 25,
   "id": "d42868e2",
   "metadata": {},
   "outputs": [
    {
     "data": {
      "text/html": [
       "<div>\n",
       "<style scoped>\n",
       "    .dataframe tbody tr th:only-of-type {\n",
       "        vertical-align: middle;\n",
       "    }\n",
       "\n",
       "    .dataframe tbody tr th {\n",
       "        vertical-align: top;\n",
       "    }\n",
       "\n",
       "    .dataframe thead th {\n",
       "        text-align: right;\n",
       "    }\n",
       "</style>\n",
       "<table border=\"1\" class=\"dataframe\">\n",
       "  <thead>\n",
       "    <tr style=\"text-align: right;\">\n",
       "      <th></th>\n",
       "      <th>price</th>\n",
       "      <th>Bedrooms</th>\n",
       "      <th>Bathrooms</th>\n",
       "      <th>Price_sqft</th>\n",
       "      <th>type_of_building</th>\n",
       "      <th>neworold</th>\n",
       "      <th>total_sq_feet</th>\n",
       "    </tr>\n",
       "  </thead>\n",
       "  <tbody>\n",
       "    <tr>\n",
       "      <th>0</th>\n",
       "      <td>5600000.0</td>\n",
       "      <td>3.0</td>\n",
       "      <td>3.0</td>\n",
       "      <td>4148.148148</td>\n",
       "      <td>1.0</td>\n",
       "      <td>0.0</td>\n",
       "      <td>1350.0</td>\n",
       "    </tr>\n",
       "    <tr>\n",
       "      <th>1</th>\n",
       "      <td>8800000.0</td>\n",
       "      <td>3.0</td>\n",
       "      <td>3.0</td>\n",
       "      <td>5906.040268</td>\n",
       "      <td>1.0</td>\n",
       "      <td>0.0</td>\n",
       "      <td>1490.0</td>\n",
       "    </tr>\n",
       "    <tr>\n",
       "      <th>2</th>\n",
       "      <td>16500000.0</td>\n",
       "      <td>4.0</td>\n",
       "      <td>5.0</td>\n",
       "      <td>6918.238994</td>\n",
       "      <td>1.0</td>\n",
       "      <td>0.0</td>\n",
       "      <td>2385.0</td>\n",
       "    </tr>\n",
       "    <tr>\n",
       "      <th>3</th>\n",
       "      <td>3810000.0</td>\n",
       "      <td>2.0</td>\n",
       "      <td>2.0</td>\n",
       "      <td>3628.571429</td>\n",
       "      <td>1.0</td>\n",
       "      <td>0.0</td>\n",
       "      <td>1050.0</td>\n",
       "    </tr>\n",
       "    <tr>\n",
       "      <th>4</th>\n",
       "      <td>6200000.0</td>\n",
       "      <td>2.0</td>\n",
       "      <td>2.0</td>\n",
       "      <td>4592.592593</td>\n",
       "      <td>1.0</td>\n",
       "      <td>1.0</td>\n",
       "      <td>1350.0</td>\n",
       "    </tr>\n",
       "    <tr>\n",
       "      <th>...</th>\n",
       "      <td>...</td>\n",
       "      <td>...</td>\n",
       "      <td>...</td>\n",
       "      <td>...</td>\n",
       "      <td>...</td>\n",
       "      <td>...</td>\n",
       "      <td>...</td>\n",
       "    </tr>\n",
       "    <tr>\n",
       "      <th>7733</th>\n",
       "      <td>7900000.0</td>\n",
       "      <td>2.0</td>\n",
       "      <td>2.0</td>\n",
       "      <td>7214.611872</td>\n",
       "      <td>1.0</td>\n",
       "      <td>1.0</td>\n",
       "      <td>1095.0</td>\n",
       "    </tr>\n",
       "    <tr>\n",
       "      <th>7734</th>\n",
       "      <td>4510000.0</td>\n",
       "      <td>2.0</td>\n",
       "      <td>2.0</td>\n",
       "      <td>4254.716981</td>\n",
       "      <td>1.0</td>\n",
       "      <td>1.0</td>\n",
       "      <td>1060.0</td>\n",
       "    </tr>\n",
       "    <tr>\n",
       "      <th>7735</th>\n",
       "      <td>7000000.0</td>\n",
       "      <td>4.0</td>\n",
       "      <td>3.0</td>\n",
       "      <td>3688.092729</td>\n",
       "      <td>1.0</td>\n",
       "      <td>1.0</td>\n",
       "      <td>1898.0</td>\n",
       "    </tr>\n",
       "    <tr>\n",
       "      <th>7736</th>\n",
       "      <td>6500000.0</td>\n",
       "      <td>3.0</td>\n",
       "      <td>3.0</td>\n",
       "      <td>4642.857143</td>\n",
       "      <td>1.0</td>\n",
       "      <td>1.0</td>\n",
       "      <td>1400.0</td>\n",
       "    </tr>\n",
       "    <tr>\n",
       "      <th>7737</th>\n",
       "      <td>6500000.0</td>\n",
       "      <td>3.0</td>\n",
       "      <td>2.0</td>\n",
       "      <td>3714.285714</td>\n",
       "      <td>1.0</td>\n",
       "      <td>0.0</td>\n",
       "      <td>1750.0</td>\n",
       "    </tr>\n",
       "  </tbody>\n",
       "</table>\n",
       "<p>7738 rows × 7 columns</p>\n",
       "</div>"
      ],
      "text/plain": [
       "           price  Bedrooms  Bathrooms   Price_sqft  type_of_building  \\\n",
       "0      5600000.0       3.0        3.0  4148.148148               1.0   \n",
       "1      8800000.0       3.0        3.0  5906.040268               1.0   \n",
       "2     16500000.0       4.0        5.0  6918.238994               1.0   \n",
       "3      3810000.0       2.0        2.0  3628.571429               1.0   \n",
       "4      6200000.0       2.0        2.0  4592.592593               1.0   \n",
       "...          ...       ...        ...          ...               ...   \n",
       "7733   7900000.0       2.0        2.0  7214.611872               1.0   \n",
       "7734   4510000.0       2.0        2.0  4254.716981               1.0   \n",
       "7735   7000000.0       4.0        3.0  3688.092729               1.0   \n",
       "7736   6500000.0       3.0        3.0  4642.857143               1.0   \n",
       "7737   6500000.0       3.0        2.0  3714.285714               1.0   \n",
       "\n",
       "      neworold  total_sq_feet  \n",
       "0          0.0         1350.0  \n",
       "1          0.0         1490.0  \n",
       "2          0.0         2385.0  \n",
       "3          0.0         1050.0  \n",
       "4          1.0         1350.0  \n",
       "...        ...            ...  \n",
       "7733       1.0         1095.0  \n",
       "7734       1.0         1060.0  \n",
       "7735       1.0         1898.0  \n",
       "7736       1.0         1400.0  \n",
       "7737       0.0         1750.0  \n",
       "\n",
       "[7738 rows x 7 columns]"
      ]
     },
     "execution_count": 25,
     "metadata": {},
     "output_type": "execute_result"
    }
   ],
   "source": [
    "dff"
   ]
  },
  {
   "cell_type": "code",
   "execution_count": 26,
   "id": "c8577300",
   "metadata": {},
   "outputs": [],
   "source": [
    "dff=dff.drop(\"Price_sqft\",axis=1)"
   ]
  },
  {
   "cell_type": "code",
   "execution_count": 27,
   "id": "9981e1dc",
   "metadata": {},
   "outputs": [
    {
     "data": {
      "text/html": [
       "<div>\n",
       "<style scoped>\n",
       "    .dataframe tbody tr th:only-of-type {\n",
       "        vertical-align: middle;\n",
       "    }\n",
       "\n",
       "    .dataframe tbody tr th {\n",
       "        vertical-align: top;\n",
       "    }\n",
       "\n",
       "    .dataframe thead th {\n",
       "        text-align: right;\n",
       "    }\n",
       "</style>\n",
       "<table border=\"1\" class=\"dataframe\">\n",
       "  <thead>\n",
       "    <tr style=\"text-align: right;\">\n",
       "      <th></th>\n",
       "      <th>price</th>\n",
       "      <th>Bedrooms</th>\n",
       "      <th>Bathrooms</th>\n",
       "      <th>type_of_building</th>\n",
       "      <th>neworold</th>\n",
       "      <th>total_sq_feet</th>\n",
       "    </tr>\n",
       "  </thead>\n",
       "  <tbody>\n",
       "    <tr>\n",
       "      <th>0</th>\n",
       "      <td>5600000.0</td>\n",
       "      <td>3.0</td>\n",
       "      <td>3.0</td>\n",
       "      <td>1.0</td>\n",
       "      <td>0.0</td>\n",
       "      <td>1350.0</td>\n",
       "    </tr>\n",
       "    <tr>\n",
       "      <th>1</th>\n",
       "      <td>8800000.0</td>\n",
       "      <td>3.0</td>\n",
       "      <td>3.0</td>\n",
       "      <td>1.0</td>\n",
       "      <td>0.0</td>\n",
       "      <td>1490.0</td>\n",
       "    </tr>\n",
       "    <tr>\n",
       "      <th>2</th>\n",
       "      <td>16500000.0</td>\n",
       "      <td>4.0</td>\n",
       "      <td>5.0</td>\n",
       "      <td>1.0</td>\n",
       "      <td>0.0</td>\n",
       "      <td>2385.0</td>\n",
       "    </tr>\n",
       "    <tr>\n",
       "      <th>3</th>\n",
       "      <td>3810000.0</td>\n",
       "      <td>2.0</td>\n",
       "      <td>2.0</td>\n",
       "      <td>1.0</td>\n",
       "      <td>0.0</td>\n",
       "      <td>1050.0</td>\n",
       "    </tr>\n",
       "    <tr>\n",
       "      <th>4</th>\n",
       "      <td>6200000.0</td>\n",
       "      <td>2.0</td>\n",
       "      <td>2.0</td>\n",
       "      <td>1.0</td>\n",
       "      <td>1.0</td>\n",
       "      <td>1350.0</td>\n",
       "    </tr>\n",
       "    <tr>\n",
       "      <th>...</th>\n",
       "      <td>...</td>\n",
       "      <td>...</td>\n",
       "      <td>...</td>\n",
       "      <td>...</td>\n",
       "      <td>...</td>\n",
       "      <td>...</td>\n",
       "    </tr>\n",
       "    <tr>\n",
       "      <th>7733</th>\n",
       "      <td>7900000.0</td>\n",
       "      <td>2.0</td>\n",
       "      <td>2.0</td>\n",
       "      <td>1.0</td>\n",
       "      <td>1.0</td>\n",
       "      <td>1095.0</td>\n",
       "    </tr>\n",
       "    <tr>\n",
       "      <th>7734</th>\n",
       "      <td>4510000.0</td>\n",
       "      <td>2.0</td>\n",
       "      <td>2.0</td>\n",
       "      <td>1.0</td>\n",
       "      <td>1.0</td>\n",
       "      <td>1060.0</td>\n",
       "    </tr>\n",
       "    <tr>\n",
       "      <th>7735</th>\n",
       "      <td>7000000.0</td>\n",
       "      <td>4.0</td>\n",
       "      <td>3.0</td>\n",
       "      <td>1.0</td>\n",
       "      <td>1.0</td>\n",
       "      <td>1898.0</td>\n",
       "    </tr>\n",
       "    <tr>\n",
       "      <th>7736</th>\n",
       "      <td>6500000.0</td>\n",
       "      <td>3.0</td>\n",
       "      <td>3.0</td>\n",
       "      <td>1.0</td>\n",
       "      <td>1.0</td>\n",
       "      <td>1400.0</td>\n",
       "    </tr>\n",
       "    <tr>\n",
       "      <th>7737</th>\n",
       "      <td>6500000.0</td>\n",
       "      <td>3.0</td>\n",
       "      <td>2.0</td>\n",
       "      <td>1.0</td>\n",
       "      <td>0.0</td>\n",
       "      <td>1750.0</td>\n",
       "    </tr>\n",
       "  </tbody>\n",
       "</table>\n",
       "<p>7738 rows × 6 columns</p>\n",
       "</div>"
      ],
      "text/plain": [
       "           price  Bedrooms  Bathrooms  type_of_building  neworold  \\\n",
       "0      5600000.0       3.0        3.0               1.0       0.0   \n",
       "1      8800000.0       3.0        3.0               1.0       0.0   \n",
       "2     16500000.0       4.0        5.0               1.0       0.0   \n",
       "3      3810000.0       2.0        2.0               1.0       0.0   \n",
       "4      6200000.0       2.0        2.0               1.0       1.0   \n",
       "...          ...       ...        ...               ...       ...   \n",
       "7733   7900000.0       2.0        2.0               1.0       1.0   \n",
       "7734   4510000.0       2.0        2.0               1.0       1.0   \n",
       "7735   7000000.0       4.0        3.0               1.0       1.0   \n",
       "7736   6500000.0       3.0        3.0               1.0       1.0   \n",
       "7737   6500000.0       3.0        2.0               1.0       0.0   \n",
       "\n",
       "      total_sq_feet  \n",
       "0            1350.0  \n",
       "1            1490.0  \n",
       "2            2385.0  \n",
       "3            1050.0  \n",
       "4            1350.0  \n",
       "...             ...  \n",
       "7733         1095.0  \n",
       "7734         1060.0  \n",
       "7735         1898.0  \n",
       "7736         1400.0  \n",
       "7737         1750.0  \n",
       "\n",
       "[7738 rows x 6 columns]"
      ]
     },
     "execution_count": 27,
     "metadata": {},
     "output_type": "execute_result"
    }
   ],
   "source": [
    "#this is the final cleaned data\n",
    "dff"
   ]
  },
  {
   "cell_type": "code",
   "execution_count": 28,
   "id": "645a164a",
   "metadata": {},
   "outputs": [
    {
     "data": {
      "text/html": [
       "<div>\n",
       "<style scoped>\n",
       "    .dataframe tbody tr th:only-of-type {\n",
       "        vertical-align: middle;\n",
       "    }\n",
       "\n",
       "    .dataframe tbody tr th {\n",
       "        vertical-align: top;\n",
       "    }\n",
       "\n",
       "    .dataframe thead th {\n",
       "        text-align: right;\n",
       "    }\n",
       "</style>\n",
       "<table border=\"1\" class=\"dataframe\">\n",
       "  <thead>\n",
       "    <tr style=\"text-align: right;\">\n",
       "      <th></th>\n",
       "      <th>Bedrooms</th>\n",
       "      <th>Bathrooms</th>\n",
       "      <th>type_of_building</th>\n",
       "      <th>neworold</th>\n",
       "      <th>total_sq_feet</th>\n",
       "    </tr>\n",
       "  </thead>\n",
       "  <tbody>\n",
       "    <tr>\n",
       "      <th>0</th>\n",
       "      <td>3.0</td>\n",
       "      <td>3.0</td>\n",
       "      <td>1.0</td>\n",
       "      <td>0.0</td>\n",
       "      <td>1350.0</td>\n",
       "    </tr>\n",
       "    <tr>\n",
       "      <th>1</th>\n",
       "      <td>3.0</td>\n",
       "      <td>3.0</td>\n",
       "      <td>1.0</td>\n",
       "      <td>0.0</td>\n",
       "      <td>1490.0</td>\n",
       "    </tr>\n",
       "    <tr>\n",
       "      <th>2</th>\n",
       "      <td>4.0</td>\n",
       "      <td>5.0</td>\n",
       "      <td>1.0</td>\n",
       "      <td>0.0</td>\n",
       "      <td>2385.0</td>\n",
       "    </tr>\n",
       "    <tr>\n",
       "      <th>3</th>\n",
       "      <td>2.0</td>\n",
       "      <td>2.0</td>\n",
       "      <td>1.0</td>\n",
       "      <td>0.0</td>\n",
       "      <td>1050.0</td>\n",
       "    </tr>\n",
       "    <tr>\n",
       "      <th>4</th>\n",
       "      <td>2.0</td>\n",
       "      <td>2.0</td>\n",
       "      <td>1.0</td>\n",
       "      <td>1.0</td>\n",
       "      <td>1350.0</td>\n",
       "    </tr>\n",
       "    <tr>\n",
       "      <th>...</th>\n",
       "      <td>...</td>\n",
       "      <td>...</td>\n",
       "      <td>...</td>\n",
       "      <td>...</td>\n",
       "      <td>...</td>\n",
       "    </tr>\n",
       "    <tr>\n",
       "      <th>7733</th>\n",
       "      <td>2.0</td>\n",
       "      <td>2.0</td>\n",
       "      <td>1.0</td>\n",
       "      <td>1.0</td>\n",
       "      <td>1095.0</td>\n",
       "    </tr>\n",
       "    <tr>\n",
       "      <th>7734</th>\n",
       "      <td>2.0</td>\n",
       "      <td>2.0</td>\n",
       "      <td>1.0</td>\n",
       "      <td>1.0</td>\n",
       "      <td>1060.0</td>\n",
       "    </tr>\n",
       "    <tr>\n",
       "      <th>7735</th>\n",
       "      <td>4.0</td>\n",
       "      <td>3.0</td>\n",
       "      <td>1.0</td>\n",
       "      <td>1.0</td>\n",
       "      <td>1898.0</td>\n",
       "    </tr>\n",
       "    <tr>\n",
       "      <th>7736</th>\n",
       "      <td>3.0</td>\n",
       "      <td>3.0</td>\n",
       "      <td>1.0</td>\n",
       "      <td>1.0</td>\n",
       "      <td>1400.0</td>\n",
       "    </tr>\n",
       "    <tr>\n",
       "      <th>7737</th>\n",
       "      <td>3.0</td>\n",
       "      <td>2.0</td>\n",
       "      <td>1.0</td>\n",
       "      <td>0.0</td>\n",
       "      <td>1750.0</td>\n",
       "    </tr>\n",
       "  </tbody>\n",
       "</table>\n",
       "<p>7738 rows × 5 columns</p>\n",
       "</div>"
      ],
      "text/plain": [
       "      Bedrooms  Bathrooms  type_of_building  neworold  total_sq_feet\n",
       "0          3.0        3.0               1.0       0.0         1350.0\n",
       "1          3.0        3.0               1.0       0.0         1490.0\n",
       "2          4.0        5.0               1.0       0.0         2385.0\n",
       "3          2.0        2.0               1.0       0.0         1050.0\n",
       "4          2.0        2.0               1.0       1.0         1350.0\n",
       "...        ...        ...               ...       ...            ...\n",
       "7733       2.0        2.0               1.0       1.0         1095.0\n",
       "7734       2.0        2.0               1.0       1.0         1060.0\n",
       "7735       4.0        3.0               1.0       1.0         1898.0\n",
       "7736       3.0        3.0               1.0       1.0         1400.0\n",
       "7737       3.0        2.0               1.0       0.0         1750.0\n",
       "\n",
       "[7738 rows x 5 columns]"
      ]
     },
     "execution_count": 28,
     "metadata": {},
     "output_type": "execute_result"
    }
   ],
   "source": [
    "X=dff.drop(\"price\",axis=1)\n",
    "X"
   ]
  },
  {
   "cell_type": "code",
   "execution_count": 29,
   "id": "a1e61116",
   "metadata": {},
   "outputs": [
    {
     "data": {
      "text/plain": [
       "0        5600000.0\n",
       "1        8800000.0\n",
       "2       16500000.0\n",
       "3        3810000.0\n",
       "4        6200000.0\n",
       "           ...    \n",
       "7733     7900000.0\n",
       "7734     4510000.0\n",
       "7735     7000000.0\n",
       "7736     6500000.0\n",
       "7737     6500000.0\n",
       "Name: price, Length: 7738, dtype: float64"
      ]
     },
     "execution_count": 29,
     "metadata": {},
     "output_type": "execute_result"
    }
   ],
   "source": [
    "y=dff[\"price\"]\n",
    "y"
   ]
  },
  {
   "cell_type": "code",
   "execution_count": 30,
   "id": "24383272",
   "metadata": {},
   "outputs": [],
   "source": [
    "from sklearn.model_selection import train_test_split\n",
    "from sklearn.linear_model import LinearRegression,Lasso,Ridge\n",
    "from sklearn.pipeline import make_pipeline\n",
    "from sklearn.metrics import r2_score\n",
    "from sklearn.preprocessing import StandardScaler"
   ]
  },
  {
   "cell_type": "code",
   "execution_count": 31,
   "id": "68c9ce7c",
   "metadata": {},
   "outputs": [],
   "source": [
    "#now let us divide the data to train_test_split\n",
    "X_train,X_test,y_train,y_test=train_test_split(X,y,test_size=0.2,random_state=0)"
   ]
  },
  {
   "cell_type": "code",
   "execution_count": 32,
   "id": "9b77e4f5",
   "metadata": {},
   "outputs": [],
   "source": [
    "scaler=StandardScaler()\n",
    "lr=LinearRegression()\n",
    "pipe1=make_pipeline(scaler,lr)\n"
   ]
  },
  {
   "cell_type": "code",
   "execution_count": 33,
   "id": "f444cc68",
   "metadata": {},
   "outputs": [
    {
     "data": {
      "text/html": [
       "<style>#sk-container-id-1 {color: black;background-color: white;}#sk-container-id-1 pre{padding: 0;}#sk-container-id-1 div.sk-toggleable {background-color: white;}#sk-container-id-1 label.sk-toggleable__label {cursor: pointer;display: block;width: 100%;margin-bottom: 0;padding: 0.3em;box-sizing: border-box;text-align: center;}#sk-container-id-1 label.sk-toggleable__label-arrow:before {content: \"▸\";float: left;margin-right: 0.25em;color: #696969;}#sk-container-id-1 label.sk-toggleable__label-arrow:hover:before {color: black;}#sk-container-id-1 div.sk-estimator:hover label.sk-toggleable__label-arrow:before {color: black;}#sk-container-id-1 div.sk-toggleable__content {max-height: 0;max-width: 0;overflow: hidden;text-align: left;background-color: #f0f8ff;}#sk-container-id-1 div.sk-toggleable__content pre {margin: 0.2em;color: black;border-radius: 0.25em;background-color: #f0f8ff;}#sk-container-id-1 input.sk-toggleable__control:checked~div.sk-toggleable__content {max-height: 200px;max-width: 100%;overflow: auto;}#sk-container-id-1 input.sk-toggleable__control:checked~label.sk-toggleable__label-arrow:before {content: \"▾\";}#sk-container-id-1 div.sk-estimator input.sk-toggleable__control:checked~label.sk-toggleable__label {background-color: #d4ebff;}#sk-container-id-1 div.sk-label input.sk-toggleable__control:checked~label.sk-toggleable__label {background-color: #d4ebff;}#sk-container-id-1 input.sk-hidden--visually {border: 0;clip: rect(1px 1px 1px 1px);clip: rect(1px, 1px, 1px, 1px);height: 1px;margin: -1px;overflow: hidden;padding: 0;position: absolute;width: 1px;}#sk-container-id-1 div.sk-estimator {font-family: monospace;background-color: #f0f8ff;border: 1px dotted black;border-radius: 0.25em;box-sizing: border-box;margin-bottom: 0.5em;}#sk-container-id-1 div.sk-estimator:hover {background-color: #d4ebff;}#sk-container-id-1 div.sk-parallel-item::after {content: \"\";width: 100%;border-bottom: 1px solid gray;flex-grow: 1;}#sk-container-id-1 div.sk-label:hover label.sk-toggleable__label {background-color: #d4ebff;}#sk-container-id-1 div.sk-serial::before {content: \"\";position: absolute;border-left: 1px solid gray;box-sizing: border-box;top: 0;bottom: 0;left: 50%;z-index: 0;}#sk-container-id-1 div.sk-serial {display: flex;flex-direction: column;align-items: center;background-color: white;padding-right: 0.2em;padding-left: 0.2em;position: relative;}#sk-container-id-1 div.sk-item {position: relative;z-index: 1;}#sk-container-id-1 div.sk-parallel {display: flex;align-items: stretch;justify-content: center;background-color: white;position: relative;}#sk-container-id-1 div.sk-item::before, #sk-container-id-1 div.sk-parallel-item::before {content: \"\";position: absolute;border-left: 1px solid gray;box-sizing: border-box;top: 0;bottom: 0;left: 50%;z-index: -1;}#sk-container-id-1 div.sk-parallel-item {display: flex;flex-direction: column;z-index: 1;position: relative;background-color: white;}#sk-container-id-1 div.sk-parallel-item:first-child::after {align-self: flex-end;width: 50%;}#sk-container-id-1 div.sk-parallel-item:last-child::after {align-self: flex-start;width: 50%;}#sk-container-id-1 div.sk-parallel-item:only-child::after {width: 0;}#sk-container-id-1 div.sk-dashed-wrapped {border: 1px dashed gray;margin: 0 0.4em 0.5em 0.4em;box-sizing: border-box;padding-bottom: 0.4em;background-color: white;}#sk-container-id-1 div.sk-label label {font-family: monospace;font-weight: bold;display: inline-block;line-height: 1.2em;}#sk-container-id-1 div.sk-label-container {text-align: center;}#sk-container-id-1 div.sk-container {/* jupyter's `normalize.less` sets `[hidden] { display: none; }` but bootstrap.min.css set `[hidden] { display: none !important; }` so we also need the `!important` here to be able to override the default hidden behavior on the sphinx rendered scikit-learn.org. See: https://github.com/scikit-learn/scikit-learn/issues/21755 */display: inline-block !important;position: relative;}#sk-container-id-1 div.sk-text-repr-fallback {display: none;}</style><div id=\"sk-container-id-1\" class=\"sk-top-container\"><div class=\"sk-text-repr-fallback\"><pre>Pipeline(steps=[(&#x27;standardscaler&#x27;, StandardScaler()),\n",
       "                (&#x27;linearregression&#x27;, LinearRegression())])</pre><b>In a Jupyter environment, please rerun this cell to show the HTML representation or trust the notebook. <br />On GitHub, the HTML representation is unable to render, please try loading this page with nbviewer.org.</b></div><div class=\"sk-container\" hidden><div class=\"sk-item sk-dashed-wrapped\"><div class=\"sk-label-container\"><div class=\"sk-label sk-toggleable\"><input class=\"sk-toggleable__control sk-hidden--visually\" id=\"sk-estimator-id-1\" type=\"checkbox\" ><label for=\"sk-estimator-id-1\" class=\"sk-toggleable__label sk-toggleable__label-arrow\">Pipeline</label><div class=\"sk-toggleable__content\"><pre>Pipeline(steps=[(&#x27;standardscaler&#x27;, StandardScaler()),\n",
       "                (&#x27;linearregression&#x27;, LinearRegression())])</pre></div></div></div><div class=\"sk-serial\"><div class=\"sk-item\"><div class=\"sk-estimator sk-toggleable\"><input class=\"sk-toggleable__control sk-hidden--visually\" id=\"sk-estimator-id-2\" type=\"checkbox\" ><label for=\"sk-estimator-id-2\" class=\"sk-toggleable__label sk-toggleable__label-arrow\">StandardScaler</label><div class=\"sk-toggleable__content\"><pre>StandardScaler()</pre></div></div></div><div class=\"sk-item\"><div class=\"sk-estimator sk-toggleable\"><input class=\"sk-toggleable__control sk-hidden--visually\" id=\"sk-estimator-id-3\" type=\"checkbox\" ><label for=\"sk-estimator-id-3\" class=\"sk-toggleable__label sk-toggleable__label-arrow\">LinearRegression</label><div class=\"sk-toggleable__content\"><pre>LinearRegression()</pre></div></div></div></div></div></div></div>"
      ],
      "text/plain": [
       "Pipeline(steps=[('standardscaler', StandardScaler()),\n",
       "                ('linearregression', LinearRegression())])"
      ]
     },
     "execution_count": 33,
     "metadata": {},
     "output_type": "execute_result"
    }
   ],
   "source": [
    "pipe1.fit(X_train,y_train)"
   ]
  },
  {
   "cell_type": "code",
   "execution_count": 34,
   "id": "1cdc6175",
   "metadata": {},
   "outputs": [],
   "source": [
    "y_pred1=pipe1.predict(X_test)"
   ]
  },
  {
   "cell_type": "code",
   "execution_count": 35,
   "id": "fa194775",
   "metadata": {},
   "outputs": [
    {
     "data": {
      "text/plain": [
       "0.7386019829077386"
      ]
     },
     "execution_count": 35,
     "metadata": {},
     "output_type": "execute_result"
    }
   ],
   "source": [
    "r2_score(y_test,y_pred1)"
   ]
  },
  {
   "cell_type": "code",
   "execution_count": 36,
   "id": "dced1730",
   "metadata": {},
   "outputs": [
    {
     "data": {
      "text/plain": [
       "0.7386020022914355"
      ]
     },
     "execution_count": 36,
     "metadata": {},
     "output_type": "execute_result"
    }
   ],
   "source": [
    "#now let us use lasso\n",
    "lasso=Lasso()\n",
    "pipe2=make_pipeline(scaler,lasso)\n",
    "pipe2.fit(X_train,y_train)\n",
    "y_pred2=pipe2.predict(X_test)\n",
    "r2_score(y_test,y_pred2)\n"
   ]
  },
  {
   "cell_type": "code",
   "execution_count": 37,
   "id": "6e4ab959",
   "metadata": {},
   "outputs": [
    {
     "data": {
      "text/plain": [
       "0.7386012678182547"
      ]
     },
     "execution_count": 37,
     "metadata": {},
     "output_type": "execute_result"
    }
   ],
   "source": [
    "ridge=Ridge()\n",
    "pipe3=make_pipeline(scaler,ridge)\n",
    "pipe3.fit(X_train,y_train)\n",
    "y_pred3=pipe3.predict(X_test)\n",
    "r2_score(y_test,y_pred3)\n"
   ]
  },
  {
   "cell_type": "code",
   "execution_count": 43,
   "id": "fa3b4efb",
   "metadata": {},
   "outputs": [],
   "source": [
    "import pickle\n",
    "pickle.dump(pipe3,open(\"RidgeModel.pkl\",\"wb\"))"
   ]
  },
  {
   "cell_type": "code",
   "execution_count": 39,
   "id": "edc4f701",
   "metadata": {},
   "outputs": [],
   "source": []
  },
  {
   "cell_type": "code",
   "execution_count": null,
   "id": "52e6bd62",
   "metadata": {},
   "outputs": [],
   "source": []
  },
  {
   "cell_type": "code",
   "execution_count": null,
   "id": "645d04d7",
   "metadata": {},
   "outputs": [],
   "source": []
  },
  {
   "cell_type": "code",
   "execution_count": null,
   "id": "c982ef4f",
   "metadata": {},
   "outputs": [],
   "source": []
  }
 ],
 "metadata": {
  "kernelspec": {
   "display_name": "Python 3 (ipykernel)",
   "language": "python",
   "name": "python3"
  },
  "language_info": {
   "codemirror_mode": {
    "name": "ipython",
    "version": 3
   },
   "file_extension": ".py",
   "mimetype": "text/x-python",
   "name": "python",
   "nbconvert_exporter": "python",
   "pygments_lexer": "ipython3",
   "version": "3.8.10"
  }
 },
 "nbformat": 4,
 "nbformat_minor": 5
}
